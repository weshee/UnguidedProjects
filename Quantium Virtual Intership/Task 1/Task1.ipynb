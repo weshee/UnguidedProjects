{
 "cells": [
  {
   "cell_type": "markdown",
   "metadata": {},
   "source": [
    "# Introduction\n",
    "In this task, the client, the Category Manager for Chips, who wants to better understand the types of customers who purchase Chips and their purchasing behaviour within the region.\n",
    "The insights from your analysis will feed into the supermarket’s strategic plan for the chip category in the next half year.\n",
    "\n",
    "There are some important analysis must be explored:\n",
    "- **Examine transaction data** \n",
    "- **Examine customer data**\n",
    "- **Data analysis and customer segments**"
   ]
  },
  {
   "cell_type": "code",
   "execution_count": 81,
   "metadata": {},
   "outputs": [],
   "source": [
    "import numpy as np\n",
    "import pandas as pd\n",
    "import matplotlib.pyplot as plt\n",
    "import seaborn as sns\n",
    "import nltk\n",
    "from IPython.display import display\n",
    "from collections import Counter"
   ]
  },
  {
   "cell_type": "code",
   "execution_count": 315,
   "metadata": {},
   "outputs": [],
   "source": [
    "trans = pd.read_excel('QVI_transaction_data.xlsx', parse_dates=['DATE'])\n",
    "cust = pd.read_csv('QVI_purchase_behaviour.csv')"
   ]
  },
  {
   "cell_type": "markdown",
   "metadata": {},
   "source": [
    "## Examine transaction data\n",
    "Generally, to have a good feeling about the data we can use 3 methods from Pandas:\n",
    "* DataFrame.head()\n",
    "* DataFrame.info()\n",
    "* DataFrame.describe()\n",
    "\n",
    "First of all, I convert the interger data to readable date.\n",
    "<br>.info() will be able to tell us if there is any missing values in the dataset.\n",
    "\n",
    "Examining the dataset product name, we do find chips in the table. However, since we are only interested in chips analysis, we need to remove products that are not chips. Now, we have reduced the entries from 264836 to 74570. In total, there are 33 types of chips in the dataset."
   ]
  },
  {
   "cell_type": "code",
   "execution_count": 326,
   "metadata": {},
   "outputs": [],
   "source": [
    "trans['DATE'] = pd.to_datetime(trans['DATE'], errors='coerce', unit='d')"
   ]
  },
  {
   "cell_type": "code",
   "execution_count": null,
   "metadata": {},
   "outputs": [],
   "source": [
    "trans.info()"
   ]
  },
  {
   "cell_type": "code",
   "execution_count": 10,
   "metadata": {},
   "outputs": [
    {
     "data": {
      "text/html": [
       "<div>\n",
       "<style scoped>\n",
       "    .dataframe tbody tr th:only-of-type {\n",
       "        vertical-align: middle;\n",
       "    }\n",
       "\n",
       "    .dataframe tbody tr th {\n",
       "        vertical-align: top;\n",
       "    }\n",
       "\n",
       "    .dataframe thead th {\n",
       "        text-align: right;\n",
       "    }\n",
       "</style>\n",
       "<table border=\"1\" class=\"dataframe\">\n",
       "  <thead>\n",
       "    <tr style=\"text-align: right;\">\n",
       "      <th></th>\n",
       "      <th>DATE</th>\n",
       "      <th>STORE_NBR</th>\n",
       "      <th>LYLTY_CARD_NBR</th>\n",
       "      <th>TXN_ID</th>\n",
       "      <th>PROD_NBR</th>\n",
       "      <th>PROD_NAME</th>\n",
       "      <th>PROD_QTY</th>\n",
       "      <th>TOT_SALES</th>\n",
       "    </tr>\n",
       "  </thead>\n",
       "  <tbody>\n",
       "    <tr>\n",
       "      <th>0</th>\n",
       "      <td>1974-12-13 22:00:00</td>\n",
       "      <td>1</td>\n",
       "      <td>1000</td>\n",
       "      <td>1</td>\n",
       "      <td>5</td>\n",
       "      <td>Natural Chip        Compny SeaSalt175g</td>\n",
       "      <td>2</td>\n",
       "      <td>6.0</td>\n",
       "    </tr>\n",
       "    <tr>\n",
       "      <th>1</th>\n",
       "      <td>1974-12-22 15:00:00</td>\n",
       "      <td>1</td>\n",
       "      <td>1307</td>\n",
       "      <td>348</td>\n",
       "      <td>66</td>\n",
       "      <td>CCs Nacho Cheese    175g</td>\n",
       "      <td>3</td>\n",
       "      <td>6.3</td>\n",
       "    </tr>\n",
       "    <tr>\n",
       "      <th>2</th>\n",
       "      <td>1974-12-22 21:00:00</td>\n",
       "      <td>1</td>\n",
       "      <td>1343</td>\n",
       "      <td>383</td>\n",
       "      <td>61</td>\n",
       "      <td>Smiths Crinkle Cut  Chips Chicken 170g</td>\n",
       "      <td>2</td>\n",
       "      <td>2.9</td>\n",
       "    </tr>\n",
       "    <tr>\n",
       "      <th>3</th>\n",
       "      <td>1974-12-11 09:00:00</td>\n",
       "      <td>2</td>\n",
       "      <td>2373</td>\n",
       "      <td>974</td>\n",
       "      <td>69</td>\n",
       "      <td>Smiths Chip Thinly  S/Cream&amp;Onion 175g</td>\n",
       "      <td>5</td>\n",
       "      <td>15.0</td>\n",
       "    </tr>\n",
       "    <tr>\n",
       "      <th>4</th>\n",
       "      <td>1974-12-11 10:00:00</td>\n",
       "      <td>2</td>\n",
       "      <td>2426</td>\n",
       "      <td>1038</td>\n",
       "      <td>108</td>\n",
       "      <td>Kettle Tortilla ChpsHny&amp;Jlpno Chili 150g</td>\n",
       "      <td>3</td>\n",
       "      <td>13.8</td>\n",
       "    </tr>\n",
       "  </tbody>\n",
       "</table>\n",
       "</div>"
      ],
      "text/plain": [
       "                 DATE  STORE_NBR  LYLTY_CARD_NBR  TXN_ID  PROD_NBR  \\\n",
       "0 1974-12-13 22:00:00          1            1000       1         5   \n",
       "1 1974-12-22 15:00:00          1            1307     348        66   \n",
       "2 1974-12-22 21:00:00          1            1343     383        61   \n",
       "3 1974-12-11 09:00:00          2            2373     974        69   \n",
       "4 1974-12-11 10:00:00          2            2426    1038       108   \n",
       "\n",
       "                                  PROD_NAME  PROD_QTY  TOT_SALES  \n",
       "0    Natural Chip        Compny SeaSalt175g         2        6.0  \n",
       "1                  CCs Nacho Cheese    175g         3        6.3  \n",
       "2    Smiths Crinkle Cut  Chips Chicken 170g         2        2.9  \n",
       "3    Smiths Chip Thinly  S/Cream&Onion 175g         5       15.0  \n",
       "4  Kettle Tortilla ChpsHny&Jlpno Chili 150g         3       13.8  "
      ]
     },
     "metadata": {},
     "output_type": "display_data"
    },
    {
     "data": {
      "text/html": [
       "<div>\n",
       "<style scoped>\n",
       "    .dataframe tbody tr th:only-of-type {\n",
       "        vertical-align: middle;\n",
       "    }\n",
       "\n",
       "    .dataframe tbody tr th {\n",
       "        vertical-align: top;\n",
       "    }\n",
       "\n",
       "    .dataframe thead th {\n",
       "        text-align: right;\n",
       "    }\n",
       "</style>\n",
       "<table border=\"1\" class=\"dataframe\">\n",
       "  <thead>\n",
       "    <tr style=\"text-align: right;\">\n",
       "      <th></th>\n",
       "      <th>LYLTY_CARD_NBR</th>\n",
       "      <th>LIFESTAGE</th>\n",
       "      <th>PREMIUM_CUSTOMER</th>\n",
       "    </tr>\n",
       "  </thead>\n",
       "  <tbody>\n",
       "    <tr>\n",
       "      <th>0</th>\n",
       "      <td>1000</td>\n",
       "      <td>YOUNG SINGLES/COUPLES</td>\n",
       "      <td>Premium</td>\n",
       "    </tr>\n",
       "    <tr>\n",
       "      <th>1</th>\n",
       "      <td>1002</td>\n",
       "      <td>YOUNG SINGLES/COUPLES</td>\n",
       "      <td>Mainstream</td>\n",
       "    </tr>\n",
       "    <tr>\n",
       "      <th>2</th>\n",
       "      <td>1003</td>\n",
       "      <td>YOUNG FAMILIES</td>\n",
       "      <td>Budget</td>\n",
       "    </tr>\n",
       "    <tr>\n",
       "      <th>3</th>\n",
       "      <td>1004</td>\n",
       "      <td>OLDER SINGLES/COUPLES</td>\n",
       "      <td>Mainstream</td>\n",
       "    </tr>\n",
       "    <tr>\n",
       "      <th>4</th>\n",
       "      <td>1005</td>\n",
       "      <td>MIDAGE SINGLES/COUPLES</td>\n",
       "      <td>Mainstream</td>\n",
       "    </tr>\n",
       "  </tbody>\n",
       "</table>\n",
       "</div>"
      ],
      "text/plain": [
       "   LYLTY_CARD_NBR               LIFESTAGE PREMIUM_CUSTOMER\n",
       "0            1000   YOUNG SINGLES/COUPLES          Premium\n",
       "1            1002   YOUNG SINGLES/COUPLES       Mainstream\n",
       "2            1003          YOUNG FAMILIES           Budget\n",
       "3            1004   OLDER SINGLES/COUPLES       Mainstream\n",
       "4            1005  MIDAGE SINGLES/COUPLES       Mainstream"
      ]
     },
     "metadata": {},
     "output_type": "display_data"
    }
   ],
   "source": [
    "display(trans.head())\n",
    "display(cust.head())"
   ]
  },
  {
   "cell_type": "code",
   "execution_count": 174,
   "metadata": {},
   "outputs": [],
   "source": [
    "def remove_nonchips_prod(row):\n",
    "    if 'chip' in row.lower():\n",
    "        return True\n",
    "    elif 'chips' in row.lower():\n",
    "        return True\n",
    "    elif 'chps' in row.lower():\n",
    "        return True\n",
    "    elif 'chp' in row.lower():\n",
    "        return True\n",
    "    return False\n",
    "trans_chips = trans[trans['PROD_NAME'].apply(remove_nonchips_prod)]"
   ]
  },
  {
   "cell_type": "code",
   "execution_count": 184,
   "metadata": {
    "scrolled": true
   },
   "outputs": [
    {
     "name": "stderr",
     "output_type": "stream",
     "text": [
      "/Users/weshee/opt/anaconda3/lib/python3.7/site-packages/ipykernel_launcher.py:12: SettingWithCopyWarning: \n",
      "A value is trying to be set on a copy of a slice from a DataFrame.\n",
      "Try using .loc[row_indexer,col_indexer] = value instead\n",
      "\n",
      "See the caveats in the documentation: https://pandas.pydata.org/pandas-docs/stable/user_guide/indexing.html#returning-a-view-versus-a-copy\n",
      "  if sys.path[0] == '':\n"
     ]
    }
   ],
   "source": [
    "def rename_chips(row):\n",
    "    if row == 'Natural ChipCo      Hony Soy Chckn175g':\n",
    "        return 'Natural ChipCo      Hony Soy Chckn 175g'\n",
    "    if row == 'Natural Chip        Compny SeaSalt175g':\n",
    "        return 'Natural Chip        Compny SeaSalt 175g'\n",
    "    elif row == 'Smiths Chip Thinly  CutSalt/Vinegr175g':\n",
    "        return 'Smiths Chip Thinly  CutSalt/Vinegr 175g'\n",
    "    elif row == 'Smiths Crinkle Cut  Chips Chs&Onion170g':\n",
    "        return 'Smiths Crinkle Cut  Chips Chs&Onion 170g'\n",
    "    else:\n",
    "        return row\n",
    "trans_chips['PROD_NAME'] = trans_chips['PROD_NAME'].apply(rename_chips)"
   ]
  },
  {
   "cell_type": "code",
   "execution_count": 185,
   "metadata": {
    "scrolled": true
   },
   "outputs": [
    {
     "name": "stdout",
     "output_type": "stream",
     "text": [
      "In total, there are 37 types of chips sold to the customers.\n",
      "\n",
      "['Cobs Popd Sea Salt  Chips 110g' 'Cobs Popd Sour Crm  &Chives Chips 110g'\n",
      " 'Cobs Popd Swt/Chlli &Sr/Cream Chips 110g'\n",
      " 'Dorito Corn Chp     Supreme 380g'\n",
      " 'Doritos Corn Chip Mexican Jalapeno 150g'\n",
      " 'Doritos Corn Chip Southern Chicken 150g'\n",
      " 'Doritos Corn Chips  Cheese Supreme 170g'\n",
      " 'Doritos Corn Chips  Nacho Cheese 170g'\n",
      " 'Doritos Corn Chips  Original 170g' 'French Fries Potato Chips 175g'\n",
      " 'Kettle Tortilla ChpsBtroot&Ricotta 150g'\n",
      " 'Kettle Tortilla ChpsFeta&Garlic 150g'\n",
      " 'Kettle Tortilla ChpsHny&Jlpno Chili 150g'\n",
      " 'Natural Chip        Compny SeaSalt 175g'\n",
      " 'Natural Chip Co     Tmato Hrb&Spce 175g'\n",
      " 'Natural ChipCo      Hony Soy Chckn 175g'\n",
      " 'Natural ChipCo Sea  Salt & Vinegr 175g'\n",
      " 'Smiths Chip Thinly  Cut Original 175g'\n",
      " 'Smiths Chip Thinly  CutSalt/Vinegr 175g'\n",
      " 'Smiths Chip Thinly  S/Cream&Onion 175g'\n",
      " 'Smiths Crinkle Chips Salt & Vinegar 330g'\n",
      " 'Smiths Crinkle Cut  Chips Barbecue 170g'\n",
      " 'Smiths Crinkle Cut  Chips Chicken 170g'\n",
      " 'Smiths Crinkle Cut  Chips Chs&Onion 170g'\n",
      " 'Smiths Crinkle Cut  Chips Original 170g'\n",
      " 'Smiths Crnkle Chip  Orgnl Big Bag 380g'\n",
      " 'Thins Chips         Originl saltd 175g' 'Thins Chips Light&  Tangy 175g'\n",
      " 'Thins Chips Salt &  Vinegar 175g' 'Thins Chips Seasonedchicken 175g'\n",
      " 'Thins Potato Chips  Hot & Spicy 175g'\n",
      " 'Tostitos Smoked     Chipotle 175g' 'WW D/Style Chip     Sea Salt 200g'\n",
      " 'WW Original Corn    Chips 200g' 'WW Original Stacked Chips 160g'\n",
      " 'WW Sour Cream &OnionStacked Chips 160g'\n",
      " 'WW Supreme Cheese   Corn Chips 200g']\n"
     ]
    }
   ],
   "source": [
    "prod_list = np.sort(trans_chips['PROD_NAME'].unique())\n",
    "print('In total, there are {} types of chips sold to the customers.'.format(len(prod_list)))\n",
    "print()\n",
    "print(prod_list)"
   ]
  },
  {
   "cell_type": "markdown",
   "metadata": {},
   "source": [
    "# Determine outliers\n",
    "One method we can use to determine outlier is boxplot. From the boxplot below, we can see that it is abnormal for the store to sell the chips in quantity of 200. We can examine this customer further. It looks like the person who bought the 200 packets of chips is not ordinary consumer. I will remove the data from further analysis.\n",
    "\n",
    "A more straightforward way is to use **.quantile** to identify 95% quantile and filter them out."
   ]
  },
  {
   "cell_type": "code",
   "execution_count": 113,
   "metadata": {},
   "outputs": [
    {
     "data": {
      "text/html": [
       "<div>\n",
       "<style scoped>\n",
       "    .dataframe tbody tr th:only-of-type {\n",
       "        vertical-align: middle;\n",
       "    }\n",
       "\n",
       "    .dataframe tbody tr th {\n",
       "        vertical-align: top;\n",
       "    }\n",
       "\n",
       "    .dataframe thead th {\n",
       "        text-align: right;\n",
       "    }\n",
       "</style>\n",
       "<table border=\"1\" class=\"dataframe\">\n",
       "  <thead>\n",
       "    <tr style=\"text-align: right;\">\n",
       "      <th></th>\n",
       "      <th>PROD_QTY</th>\n",
       "      <th>TOT_SALES</th>\n",
       "    </tr>\n",
       "  </thead>\n",
       "  <tbody>\n",
       "    <tr>\n",
       "      <th>count</th>\n",
       "      <td>87335.000000</td>\n",
       "      <td>87335.000000</td>\n",
       "    </tr>\n",
       "    <tr>\n",
       "      <th>mean</th>\n",
       "      <td>1.910620</td>\n",
       "      <td>7.286420</td>\n",
       "    </tr>\n",
       "    <tr>\n",
       "      <th>std</th>\n",
       "      <td>1.007451</td>\n",
       "      <td>3.943887</td>\n",
       "    </tr>\n",
       "    <tr>\n",
       "      <th>min</th>\n",
       "      <td>1.000000</td>\n",
       "      <td>1.900000</td>\n",
       "    </tr>\n",
       "    <tr>\n",
       "      <th>25%</th>\n",
       "      <td>2.000000</td>\n",
       "      <td>6.000000</td>\n",
       "    </tr>\n",
       "    <tr>\n",
       "      <th>50%</th>\n",
       "      <td>2.000000</td>\n",
       "      <td>6.600000</td>\n",
       "    </tr>\n",
       "    <tr>\n",
       "      <th>75%</th>\n",
       "      <td>2.000000</td>\n",
       "      <td>8.800000</td>\n",
       "    </tr>\n",
       "    <tr>\n",
       "      <th>max</th>\n",
       "      <td>200.000000</td>\n",
       "      <td>650.000000</td>\n",
       "    </tr>\n",
       "  </tbody>\n",
       "</table>\n",
       "</div>"
      ],
      "text/plain": [
       "           PROD_QTY     TOT_SALES\n",
       "count  87335.000000  87335.000000\n",
       "mean       1.910620      7.286420\n",
       "std        1.007451      3.943887\n",
       "min        1.000000      1.900000\n",
       "25%        2.000000      6.000000\n",
       "50%        2.000000      6.600000\n",
       "75%        2.000000      8.800000\n",
       "max      200.000000    650.000000"
      ]
     },
     "execution_count": 113,
     "metadata": {},
     "output_type": "execute_result"
    }
   ],
   "source": [
    "trans_chips[['PROD_QTY', 'TOT_SALES']].describe()"
   ]
  },
  {
   "cell_type": "code",
   "execution_count": 121,
   "metadata": {},
   "outputs": [
    {
     "name": "stdout",
     "output_type": "stream",
     "text": [
      "95% quantile for Total Sales is 11.8\n"
     ]
    },
    {
     "data": {
      "image/png": "[encoded data removed]",
      "text/plain": [
       "<Figure size 432x288 with 1 Axes>"
      ]
     },
     "metadata": {
      "needs_background": "light"
     },
     "output_type": "display_data"
    }
   ],
   "source": [
    "trans_chips[['PROD_QTY', 'TOT_SALES']].boxplot()\n",
    "print('95% quantile for Total Sales is', trans_chips['TOT_SALES'].quantile(0.95))"
   ]
  },
  {
   "cell_type": "code",
   "execution_count": 120,
   "metadata": {},
   "outputs": [
    {
     "name": "stdout",
     "output_type": "stream",
     "text": [
      "Using masking, we can find that the person who buy 200 chips at once are from the same customer.\n",
      "Interestingly, further examination shows that the 2 transactions are the only transactions he made in the past.\n"
     ]
    },
    {
     "data": {
      "text/html": [
       "<div>\n",
       "<style scoped>\n",
       "    .dataframe tbody tr th:only-of-type {\n",
       "        vertical-align: middle;\n",
       "    }\n",
       "\n",
       "    .dataframe tbody tr th {\n",
       "        vertical-align: top;\n",
       "    }\n",
       "\n",
       "    .dataframe thead th {\n",
       "        text-align: right;\n",
       "    }\n",
       "</style>\n",
       "<table border=\"1\" class=\"dataframe\">\n",
       "  <thead>\n",
       "    <tr style=\"text-align: right;\">\n",
       "      <th></th>\n",
       "      <th>DATE</th>\n",
       "      <th>STORE_NBR</th>\n",
       "      <th>LYLTY_CARD_NBR</th>\n",
       "      <th>TXN_ID</th>\n",
       "      <th>PROD_NBR</th>\n",
       "      <th>PROD_NAME</th>\n",
       "      <th>PROD_QTY</th>\n",
       "      <th>TOT_SALES</th>\n",
       "    </tr>\n",
       "  </thead>\n",
       "  <tbody>\n",
       "    <tr>\n",
       "      <th>69762</th>\n",
       "      <td>1974-12-11 11:00:00</td>\n",
       "      <td>226</td>\n",
       "      <td>226000</td>\n",
       "      <td>226201</td>\n",
       "      <td>4</td>\n",
       "      <td>Dorito Corn Chp     Supreme 380g</td>\n",
       "      <td>200</td>\n",
       "      <td>650.0</td>\n",
       "    </tr>\n",
       "    <tr>\n",
       "      <th>69763</th>\n",
       "      <td>1974-12-22 21:00:00</td>\n",
       "      <td>226</td>\n",
       "      <td>226000</td>\n",
       "      <td>226210</td>\n",
       "      <td>4</td>\n",
       "      <td>Dorito Corn Chp     Supreme 380g</td>\n",
       "      <td>200</td>\n",
       "      <td>650.0</td>\n",
       "    </tr>\n",
       "  </tbody>\n",
       "</table>\n",
       "</div>"
      ],
      "text/plain": [
       "                     DATE  STORE_NBR  LYLTY_CARD_NBR  TXN_ID  PROD_NBR  \\\n",
       "69762 1974-12-11 11:00:00        226          226000  226201         4   \n",
       "69763 1974-12-22 21:00:00        226          226000  226210         4   \n",
       "\n",
       "                              PROD_NAME  PROD_QTY  TOT_SALES  \n",
       "69762  Dorito Corn Chp     Supreme 380g       200      650.0  \n",
       "69763  Dorito Corn Chp     Supreme 380g       200      650.0  "
      ]
     },
     "metadata": {},
     "output_type": "display_data"
    }
   ],
   "source": [
    "print('Using masking, we can find that the person who buy 200 chips at once are from the same customer.')\n",
    "print('Interestingly, further examination shows that the 2 transactions are the only transactions \\\n",
    "he made in the past.')\n",
    "\n",
    "display(trans_chips[trans_chips['LYLTY_CARD_NBR'] == 226000])"
   ]
  },
  {
   "cell_type": "code",
   "execution_count": 232,
   "metadata": {},
   "outputs": [
    {
     "data": {
      "image/png": "[encoded data removed]",
      "text/plain": [
       "<Figure size 432x288 with 3 Axes>"
      ]
     },
     "metadata": {
      "needs_background": "light"
     },
     "output_type": "display_data"
    }
   ],
   "source": [
    "trans_filtered = trans_chips[(trans_chips['PROD_QTY'] < 100) & (trans_chips['TOT_SALES'] < 100)]\n",
    "fig, axs = plt.subplots(1, 3)\n",
    "fig.suptitle('Histogram & Boxplot for Product QTY and Total Sales')\n",
    "trans_filtered[['PROD_QTY']].hist(ax=axs[0])\n",
    "trans_filtered[['PROD_QTY']].boxplot(rot=0, ax=axs[1])\n",
    "trans_filtered[['TOT_SALES']].boxplot(rot=0, ax=axs[2])\n",
    "plt.show()"
   ]
  },
  {
   "cell_type": "code",
   "execution_count": 93,
   "metadata": {},
   "outputs": [
    {
     "name": "stdout",
     "output_type": "stream",
     "text": [
      "After filtering, the shape of the DataFrame is reduced from (264836, 8) to (246882, 8)\n",
      "17954 of rows has been removed\n"
     ]
    }
   ],
   "source": [
    "print('After filtering, the shape of the DataFrame is reduced from {} to {}'.format(trans.shape, trans_filtered.shape))\n",
    "print('{} of rows has been removed'.format(trans.shape[0] - trans_filtered.shape[0]))"
   ]
  },
  {
   "cell_type": "markdown",
   "metadata": {},
   "source": [
    "There is a surge in demand of chips on 11/12 - 12/12 and 23/12 - 24/12. It is logical for us to deduce that the sales occurs before Christmas."
   ]
  },
  {
   "cell_type": "code",
   "execution_count": 146,
   "metadata": {},
   "outputs": [
    {
     "data": {
      "text/plain": [
       "<matplotlib.axes._subplots.AxesSubplot at 0x1a1f551ad0>"
      ]
     },
     "execution_count": 146,
     "metadata": {},
     "output_type": "execute_result"
    },
    {
     "data": {
      "image/png": "[encoded data removed]",
      "text/plain": [
       "<Figure size 1080x360 with 2 Axes>"
      ]
     },
     "metadata": {
      "needs_background": "light"
     },
     "output_type": "display_data"
    }
   ],
   "source": [
    "fig, axs = plt.subplots(1, 2, figsize=(15,5))\n",
    "fig.suptitle('Histogram for Product QTY and Total Sales against time')\n",
    "trans_filtered.set_index('DATE')[['PROD_QTY']].plot(ax=axs[0])\n",
    "trans_filtered.set_index('DATE')[['TOT_SALES']].plot(ax=axs[1])"
   ]
  },
  {
   "cell_type": "markdown",
   "metadata": {},
   "source": [
    "Next, size and brands of the chips are extracted from the data. I will generate two extra columns for them. Asides, notice that Dorito and Doritos are looks like from the same brand. I will group them together too."
   ]
  },
  {
   "cell_type": "code",
   "execution_count": 233,
   "metadata": {
    "scrolled": true
   },
   "outputs": [
    {
     "data": {
      "text/html": [
       "<div>\n",
       "<style scoped>\n",
       "    .dataframe tbody tr th:only-of-type {\n",
       "        vertical-align: middle;\n",
       "    }\n",
       "\n",
       "    .dataframe tbody tr th {\n",
       "        vertical-align: top;\n",
       "    }\n",
       "\n",
       "    .dataframe thead th {\n",
       "        text-align: right;\n",
       "    }\n",
       "</style>\n",
       "<table border=\"1\" class=\"dataframe\">\n",
       "  <thead>\n",
       "    <tr style=\"text-align: right;\">\n",
       "      <th></th>\n",
       "      <th>DATE</th>\n",
       "      <th>STORE_NBR</th>\n",
       "      <th>LYLTY_CARD_NBR</th>\n",
       "      <th>TXN_ID</th>\n",
       "      <th>PROD_NBR</th>\n",
       "      <th>PROD_NAME</th>\n",
       "      <th>PROD_QTY</th>\n",
       "      <th>TOT_SALES</th>\n",
       "      <th>PACK_SIZE</th>\n",
       "    </tr>\n",
       "  </thead>\n",
       "  <tbody>\n",
       "    <tr>\n",
       "      <th>0</th>\n",
       "      <td>1974-12-13 22:00:00</td>\n",
       "      <td>1</td>\n",
       "      <td>1000</td>\n",
       "      <td>1</td>\n",
       "      <td>5</td>\n",
       "      <td>Natural Chip        Compny SeaSalt 175g</td>\n",
       "      <td>2</td>\n",
       "      <td>6.0</td>\n",
       "      <td>175g</td>\n",
       "    </tr>\n",
       "    <tr>\n",
       "      <th>2</th>\n",
       "      <td>1974-12-22 21:00:00</td>\n",
       "      <td>1</td>\n",
       "      <td>1343</td>\n",
       "      <td>383</td>\n",
       "      <td>61</td>\n",
       "      <td>Smiths Crinkle Cut  Chips Chicken 170g</td>\n",
       "      <td>2</td>\n",
       "      <td>2.9</td>\n",
       "      <td>170g</td>\n",
       "    </tr>\n",
       "    <tr>\n",
       "      <th>3</th>\n",
       "      <td>1974-12-11 09:00:00</td>\n",
       "      <td>2</td>\n",
       "      <td>2373</td>\n",
       "      <td>974</td>\n",
       "      <td>69</td>\n",
       "      <td>Smiths Chip Thinly  S/Cream&amp;Onion 175g</td>\n",
       "      <td>5</td>\n",
       "      <td>15.0</td>\n",
       "      <td>175g</td>\n",
       "    </tr>\n",
       "    <tr>\n",
       "      <th>4</th>\n",
       "      <td>1974-12-11 10:00:00</td>\n",
       "      <td>2</td>\n",
       "      <td>2426</td>\n",
       "      <td>1038</td>\n",
       "      <td>108</td>\n",
       "      <td>Kettle Tortilla ChpsHny&amp;Jlpno Chili 150g</td>\n",
       "      <td>3</td>\n",
       "      <td>13.8</td>\n",
       "      <td>150g</td>\n",
       "    </tr>\n",
       "    <tr>\n",
       "      <th>6</th>\n",
       "      <td>1974-12-22 17:00:00</td>\n",
       "      <td>4</td>\n",
       "      <td>4149</td>\n",
       "      <td>3333</td>\n",
       "      <td>16</td>\n",
       "      <td>Smiths Crinkle Chips Salt &amp; Vinegar 330g</td>\n",
       "      <td>1</td>\n",
       "      <td>5.7</td>\n",
       "      <td>330g</td>\n",
       "    </tr>\n",
       "  </tbody>\n",
       "</table>\n",
       "</div>"
      ],
      "text/plain": [
       "                 DATE  STORE_NBR  LYLTY_CARD_NBR  TXN_ID  PROD_NBR  \\\n",
       "0 1974-12-13 22:00:00          1            1000       1         5   \n",
       "2 1974-12-22 21:00:00          1            1343     383        61   \n",
       "3 1974-12-11 09:00:00          2            2373     974        69   \n",
       "4 1974-12-11 10:00:00          2            2426    1038       108   \n",
       "6 1974-12-22 17:00:00          4            4149    3333        16   \n",
       "\n",
       "                                  PROD_NAME  PROD_QTY  TOT_SALES PACK_SIZE  \n",
       "0   Natural Chip        Compny SeaSalt 175g         2        6.0      175g  \n",
       "2    Smiths Crinkle Cut  Chips Chicken 170g         2        2.9      170g  \n",
       "3    Smiths Chip Thinly  S/Cream&Onion 175g         5       15.0      175g  \n",
       "4  Kettle Tortilla ChpsHny&Jlpno Chili 150g         3       13.8      150g  \n",
       "6  Smiths Crinkle Chips Salt & Vinegar 330g         1        5.7      330g  "
      ]
     },
     "execution_count": 233,
     "metadata": {},
     "output_type": "execute_result"
    }
   ],
   "source": [
    "def pack_size(row):\n",
    "    return row[-4:]\n",
    "trans_filtered.insert(loc=8, column='PACK_SIZE', value=trans_filtered['PROD_NAME'].apply(pack_size))\n",
    "trans_filtered.head()"
   ]
  },
  {
   "cell_type": "code",
   "execution_count": 234,
   "metadata": {},
   "outputs": [
    {
     "name": "stderr",
     "output_type": "stream",
     "text": [
      "/Users/weshee/opt/anaconda3/lib/python3.7/site-packages/ipykernel_launcher.py:9: SettingWithCopyWarning: \n",
      "A value is trying to be set on a copy of a slice from a DataFrame.\n",
      "Try using .loc[row_indexer,col_indexer] = value instead\n",
      "\n",
      "See the caveats in the documentation: https://pandas.pydata.org/pandas-docs/stable/user_guide/indexing.html#returning-a-view-versus-a-copy\n",
      "  if __name__ == '__main__':\n"
     ]
    },
    {
     "data": {
      "text/html": [
       "<div>\n",
       "<style scoped>\n",
       "    .dataframe tbody tr th:only-of-type {\n",
       "        vertical-align: middle;\n",
       "    }\n",
       "\n",
       "    .dataframe tbody tr th {\n",
       "        vertical-align: top;\n",
       "    }\n",
       "\n",
       "    .dataframe thead th {\n",
       "        text-align: right;\n",
       "    }\n",
       "</style>\n",
       "<table border=\"1\" class=\"dataframe\">\n",
       "  <thead>\n",
       "    <tr style=\"text-align: right;\">\n",
       "      <th></th>\n",
       "      <th>DATE</th>\n",
       "      <th>STORE_NBR</th>\n",
       "      <th>LYLTY_CARD_NBR</th>\n",
       "      <th>TXN_ID</th>\n",
       "      <th>PROD_NBR</th>\n",
       "      <th>PROD_NAME</th>\n",
       "      <th>PROD_QTY</th>\n",
       "      <th>TOT_SALES</th>\n",
       "      <th>BRAND</th>\n",
       "      <th>PACK_SIZE</th>\n",
       "    </tr>\n",
       "  </thead>\n",
       "  <tbody>\n",
       "    <tr>\n",
       "      <th>0</th>\n",
       "      <td>1974-12-13 22:00:00</td>\n",
       "      <td>1</td>\n",
       "      <td>1000</td>\n",
       "      <td>1</td>\n",
       "      <td>5</td>\n",
       "      <td>Natural Chip        Compny SeaSalt 175g</td>\n",
       "      <td>2</td>\n",
       "      <td>6.0</td>\n",
       "      <td>Natural</td>\n",
       "      <td>175g</td>\n",
       "    </tr>\n",
       "    <tr>\n",
       "      <th>2</th>\n",
       "      <td>1974-12-22 21:00:00</td>\n",
       "      <td>1</td>\n",
       "      <td>1343</td>\n",
       "      <td>383</td>\n",
       "      <td>61</td>\n",
       "      <td>Smiths Crinkle Cut  Chips Chicken 170g</td>\n",
       "      <td>2</td>\n",
       "      <td>2.9</td>\n",
       "      <td>Smiths</td>\n",
       "      <td>170g</td>\n",
       "    </tr>\n",
       "    <tr>\n",
       "      <th>3</th>\n",
       "      <td>1974-12-11 09:00:00</td>\n",
       "      <td>2</td>\n",
       "      <td>2373</td>\n",
       "      <td>974</td>\n",
       "      <td>69</td>\n",
       "      <td>Smiths Chip Thinly  S/Cream&amp;Onion 175g</td>\n",
       "      <td>5</td>\n",
       "      <td>15.0</td>\n",
       "      <td>Smiths</td>\n",
       "      <td>175g</td>\n",
       "    </tr>\n",
       "    <tr>\n",
       "      <th>4</th>\n",
       "      <td>1974-12-11 10:00:00</td>\n",
       "      <td>2</td>\n",
       "      <td>2426</td>\n",
       "      <td>1038</td>\n",
       "      <td>108</td>\n",
       "      <td>Kettle Tortilla ChpsHny&amp;Jlpno Chili 150g</td>\n",
       "      <td>3</td>\n",
       "      <td>13.8</td>\n",
       "      <td>Kettle</td>\n",
       "      <td>150g</td>\n",
       "    </tr>\n",
       "    <tr>\n",
       "      <th>6</th>\n",
       "      <td>1974-12-22 17:00:00</td>\n",
       "      <td>4</td>\n",
       "      <td>4149</td>\n",
       "      <td>3333</td>\n",
       "      <td>16</td>\n",
       "      <td>Smiths Crinkle Chips Salt &amp; Vinegar 330g</td>\n",
       "      <td>1</td>\n",
       "      <td>5.7</td>\n",
       "      <td>Smiths</td>\n",
       "      <td>330g</td>\n",
       "    </tr>\n",
       "  </tbody>\n",
       "</table>\n",
       "</div>"
      ],
      "text/plain": [
       "                 DATE  STORE_NBR  LYLTY_CARD_NBR  TXN_ID  PROD_NBR  \\\n",
       "0 1974-12-13 22:00:00          1            1000       1         5   \n",
       "2 1974-12-22 21:00:00          1            1343     383        61   \n",
       "3 1974-12-11 09:00:00          2            2373     974        69   \n",
       "4 1974-12-11 10:00:00          2            2426    1038       108   \n",
       "6 1974-12-22 17:00:00          4            4149    3333        16   \n",
       "\n",
       "                                  PROD_NAME  PROD_QTY  TOT_SALES    BRAND  \\\n",
       "0   Natural Chip        Compny SeaSalt 175g         2        6.0  Natural   \n",
       "2    Smiths Crinkle Cut  Chips Chicken 170g         2        2.9   Smiths   \n",
       "3    Smiths Chip Thinly  S/Cream&Onion 175g         5       15.0   Smiths   \n",
       "4  Kettle Tortilla ChpsHny&Jlpno Chili 150g         3       13.8   Kettle   \n",
       "6  Smiths Crinkle Chips Salt & Vinegar 330g         1        5.7   Smiths   \n",
       "\n",
       "  PACK_SIZE  \n",
       "0      175g  \n",
       "2      170g  \n",
       "3      175g  \n",
       "4      150g  \n",
       "6      330g  "
      ]
     },
     "execution_count": 234,
     "metadata": {},
     "output_type": "execute_result"
    }
   ],
   "source": [
    "def brand(row):\n",
    "    return row.split()[0]\n",
    "trans_filtered.insert(loc=8, column='BRAND', value=trans_filtered['PROD_NAME'].apply(brand))\n",
    "\n",
    "def brand_grouping(row):\n",
    "    if row == 'Dorito':\n",
    "        return 'Doritos'\n",
    "    return row\n",
    "trans_filtered['BRAND'] = trans_filtered['BRAND'].apply(brand_grouping)\n",
    "\n",
    "trans_filtered.head()"
   ]
  },
  {
   "cell_type": "code",
   "execution_count": 235,
   "metadata": {},
   "outputs": [
    {
     "data": {
      "text/html": [
       "<div>\n",
       "<style scoped>\n",
       "    .dataframe tbody tr th:only-of-type {\n",
       "        vertical-align: middle;\n",
       "    }\n",
       "\n",
       "    .dataframe tbody tr th {\n",
       "        vertical-align: top;\n",
       "    }\n",
       "\n",
       "    .dataframe thead th {\n",
       "        text-align: right;\n",
       "    }\n",
       "</style>\n",
       "<table border=\"1\" class=\"dataframe\">\n",
       "  <thead>\n",
       "    <tr style=\"text-align: right;\">\n",
       "      <th></th>\n",
       "      <th></th>\n",
       "      <th>TOT_SALES</th>\n",
       "    </tr>\n",
       "    <tr>\n",
       "      <th>PACK_SIZE</th>\n",
       "      <th>BRAND</th>\n",
       "      <th></th>\n",
       "    </tr>\n",
       "  </thead>\n",
       "  <tbody>\n",
       "    <tr>\n",
       "      <th>110g</th>\n",
       "      <th>Cobs</th>\n",
       "      <td>9693</td>\n",
       "    </tr>\n",
       "    <tr>\n",
       "      <th rowspan=\"2\" valign=\"top\">150g</th>\n",
       "      <th>Doritos</th>\n",
       "      <td>6376</td>\n",
       "    </tr>\n",
       "    <tr>\n",
       "      <th>Kettle</th>\n",
       "      <td>9580</td>\n",
       "    </tr>\n",
       "    <tr>\n",
       "      <th>160g</th>\n",
       "      <th>WW</th>\n",
       "      <td>2970</td>\n",
       "    </tr>\n",
       "    <tr>\n",
       "      <th rowspan=\"2\" valign=\"top\">170g</th>\n",
       "      <th>Doritos</th>\n",
       "      <td>9498</td>\n",
       "    </tr>\n",
       "    <tr>\n",
       "      <th>Smiths</th>\n",
       "      <td>5915</td>\n",
       "    </tr>\n",
       "    <tr>\n",
       "      <th rowspan=\"5\" valign=\"top\">175g</th>\n",
       "      <th>French</th>\n",
       "      <td>1418</td>\n",
       "    </tr>\n",
       "    <tr>\n",
       "      <th>Natural</th>\n",
       "      <td>6050</td>\n",
       "    </tr>\n",
       "    <tr>\n",
       "      <th>Smiths</th>\n",
       "      <td>4527</td>\n",
       "    </tr>\n",
       "    <tr>\n",
       "      <th>Thins</th>\n",
       "      <td>14075</td>\n",
       "    </tr>\n",
       "    <tr>\n",
       "      <th>Tostitos</th>\n",
       "      <td>3145</td>\n",
       "    </tr>\n",
       "    <tr>\n",
       "      <th>200g</th>\n",
       "      <th>WW</th>\n",
       "      <td>4473</td>\n",
       "    </tr>\n",
       "    <tr>\n",
       "      <th>330g</th>\n",
       "      <th>Smiths</th>\n",
       "      <td>3197</td>\n",
       "    </tr>\n",
       "    <tr>\n",
       "      <th rowspan=\"2\" valign=\"top\">380g</th>\n",
       "      <th>Doritos</th>\n",
       "      <td>3183</td>\n",
       "    </tr>\n",
       "    <tr>\n",
       "      <th>Smiths</th>\n",
       "      <td>3233</td>\n",
       "    </tr>\n",
       "  </tbody>\n",
       "</table>\n",
       "</div>"
      ],
      "text/plain": [
       "                    TOT_SALES\n",
       "PACK_SIZE BRAND              \n",
       "110g      Cobs           9693\n",
       "150g      Doritos        6376\n",
       "          Kettle         9580\n",
       "160g      WW             2970\n",
       "170g      Doritos        9498\n",
       "          Smiths         5915\n",
       "175g      French         1418\n",
       "          Natural        6050\n",
       "          Smiths         4527\n",
       "          Thins         14075\n",
       "          Tostitos       3145\n",
       "200g      WW             4473\n",
       "330g      Smiths         3197\n",
       "380g      Doritos        3183\n",
       "          Smiths         3233"
      ]
     },
     "metadata": {},
     "output_type": "display_data"
    },
    {
     "data": {
      "text/plain": [
       "<matplotlib.legend.Legend at 0x1a3b8fe390>"
      ]
     },
     "execution_count": 235,
     "metadata": {},
     "output_type": "execute_result"
    },
    {
     "data": {
      "image/png": "[encoded data removed]",
      "text/plain": [
       "<Figure size 1080x360 with 1 Axes>"
      ]
     },
     "metadata": {
      "needs_background": "light"
     },
     "output_type": "display_data"
    }
   ],
   "source": [
    "trans_filtered_count = trans_filtered.pivot_table(index=['PACK_SIZE', 'BRAND'], aggfunc='count', values='TOT_SALES')\n",
    "\n",
    "display(trans_filtered_count)\n",
    "plt.figure(figsize=(15,5))\n",
    "sns.barplot(x='BRAND', y='TOT_SALES', hue='PACK_SIZE', data=trans_filtered_count.reset_index())\n",
    "plt.legend(bbox_to_anchor=(1, 1))"
   ]
  },
  {
   "cell_type": "code",
   "execution_count": 236,
   "metadata": {},
   "outputs": [
    {
     "data": {
      "text/html": [
       "<div>\n",
       "<style scoped>\n",
       "    .dataframe tbody tr th:only-of-type {\n",
       "        vertical-align: middle;\n",
       "    }\n",
       "\n",
       "    .dataframe tbody tr th {\n",
       "        vertical-align: top;\n",
       "    }\n",
       "\n",
       "    .dataframe thead th {\n",
       "        text-align: right;\n",
       "    }\n",
       "</style>\n",
       "<table border=\"1\" class=\"dataframe\">\n",
       "  <thead>\n",
       "    <tr style=\"text-align: right;\">\n",
       "      <th></th>\n",
       "      <th></th>\n",
       "      <th>TOT_SALES</th>\n",
       "    </tr>\n",
       "    <tr>\n",
       "      <th>PACK_SIZE</th>\n",
       "      <th>BRAND</th>\n",
       "      <th></th>\n",
       "    </tr>\n",
       "  </thead>\n",
       "  <tbody>\n",
       "    <tr>\n",
       "      <th>110g</th>\n",
       "      <th>Cobs</th>\n",
       "      <td>70569.8</td>\n",
       "    </tr>\n",
       "    <tr>\n",
       "      <th rowspan=\"2\" valign=\"top\">150g</th>\n",
       "      <th>Doritos</th>\n",
       "      <td>47622.9</td>\n",
       "    </tr>\n",
       "    <tr>\n",
       "      <th>Kettle</th>\n",
       "      <td>84419.2</td>\n",
       "    </tr>\n",
       "    <tr>\n",
       "      <th>160g</th>\n",
       "      <th>WW</th>\n",
       "      <td>10647.6</td>\n",
       "    </tr>\n",
       "    <tr>\n",
       "      <th rowspan=\"2\" valign=\"top\">170g</th>\n",
       "      <th>Doritos</th>\n",
       "      <td>79974.4</td>\n",
       "    </tr>\n",
       "    <tr>\n",
       "      <th>Smiths</th>\n",
       "      <td>32422.0</td>\n",
       "    </tr>\n",
       "    <tr>\n",
       "      <th rowspan=\"5\" valign=\"top\">175g</th>\n",
       "      <th>French</th>\n",
       "      <td>7929.0</td>\n",
       "    </tr>\n",
       "    <tr>\n",
       "      <th>Natural</th>\n",
       "      <td>34272.0</td>\n",
       "    </tr>\n",
       "    <tr>\n",
       "      <th>Smiths</th>\n",
       "      <td>25644.0</td>\n",
       "    </tr>\n",
       "    <tr>\n",
       "      <th>Thins</th>\n",
       "      <td>88852.5</td>\n",
       "    </tr>\n",
       "    <tr>\n",
       "      <th>Tostitos</th>\n",
       "      <td>26474.8</td>\n",
       "    </tr>\n",
       "    <tr>\n",
       "      <th>200g</th>\n",
       "      <th>WW</th>\n",
       "      <td>16007.5</td>\n",
       "    </tr>\n",
       "    <tr>\n",
       "      <th>330g</th>\n",
       "      <th>Smiths</th>\n",
       "      <td>34804.2</td>\n",
       "    </tr>\n",
       "    <tr>\n",
       "      <th rowspan=\"2\" valign=\"top\">380g</th>\n",
       "      <th>Doritos</th>\n",
       "      <td>39052.0</td>\n",
       "    </tr>\n",
       "    <tr>\n",
       "      <th>Smiths</th>\n",
       "      <td>36367.6</td>\n",
       "    </tr>\n",
       "  </tbody>\n",
       "</table>\n",
       "</div>"
      ],
      "text/plain": [
       "                    TOT_SALES\n",
       "PACK_SIZE BRAND              \n",
       "110g      Cobs        70569.8\n",
       "150g      Doritos     47622.9\n",
       "          Kettle      84419.2\n",
       "160g      WW          10647.6\n",
       "170g      Doritos     79974.4\n",
       "          Smiths      32422.0\n",
       "175g      French       7929.0\n",
       "          Natural     34272.0\n",
       "          Smiths      25644.0\n",
       "          Thins       88852.5\n",
       "          Tostitos    26474.8\n",
       "200g      WW          16007.5\n",
       "330g      Smiths      34804.2\n",
       "380g      Doritos     39052.0\n",
       "          Smiths      36367.6"
      ]
     },
     "metadata": {},
     "output_type": "display_data"
    },
    {
     "data": {
      "text/plain": [
       "<matplotlib.legend.Legend at 0x1a3b3c5590>"
      ]
     },
     "execution_count": 236,
     "metadata": {},
     "output_type": "execute_result"
    },
    {
     "data": {
      "image/png": "[encoded data removed]",
      "text/plain": [
       "<Figure size 1080x360 with 1 Axes>"
      ]
     },
     "metadata": {
      "needs_background": "light"
     },
     "output_type": "display_data"
    }
   ],
   "source": [
    "trans_filtered_sum = trans_filtered.pivot_table(index=['PACK_SIZE', 'BRAND'], aggfunc='sum', values='TOT_SALES')\n",
    "\n",
    "display(trans_filtered_sum)\n",
    "plt.figure(figsize=(15,5))\n",
    "sns.barplot(x='BRAND', y='TOT_SALES', hue='PACK_SIZE', data=trans_filtered_sum.reset_index())\n",
    "plt.legend(bbox_to_anchor=(1, 1))"
   ]
  },
  {
   "cell_type": "markdown",
   "metadata": {},
   "source": [
    "## Examine customer data\n",
    "Have a quick check, before and after merging of the transaction data and customer data, there is no missing values from the DataFrame."
   ]
  },
  {
   "cell_type": "code",
   "execution_count": 104,
   "metadata": {
    "scrolled": true
   },
   "outputs": [
    {
     "name": "stdout",
     "output_type": "stream",
     "text": [
      "<class 'pandas.core.frame.DataFrame'>\n",
      "RangeIndex: 72637 entries, 0 to 72636\n",
      "Data columns (total 3 columns):\n",
      " #   Column            Non-Null Count  Dtype \n",
      "---  ------            --------------  ----- \n",
      " 0   LYLTY_CARD_NBR    72637 non-null  int64 \n",
      " 1   LIFESTAGE         72637 non-null  object\n",
      " 2   PREMIUM_CUSTOMER  72637 non-null  object\n",
      "dtypes: int64(1), object(2)\n",
      "memory usage: 1.7+ MB\n"
     ]
    }
   ],
   "source": [
    "cust.info()"
   ]
  },
  {
   "cell_type": "code",
   "execution_count": 109,
   "metadata": {
    "scrolled": true
   },
   "outputs": [
    {
     "name": "stdout",
     "output_type": "stream",
     "text": [
      "List of lifestage:  ['YOUNG SINGLES/COUPLES' 'YOUNG FAMILIES' 'OLDER SINGLES/COUPLES'\n",
      " 'MIDAGE SINGLES/COUPLES' 'NEW FAMILIES' 'OLDER FAMILIES' 'RETIREES']\n",
      "List of premium customer: ['Premium' 'Mainstream' 'Budget']\n"
     ]
    }
   ],
   "source": [
    "print('List of lifestage: ', cust['LIFESTAGE'].unique())\n",
    "print('List of premium customer:', cust['PREMIUM_CUSTOMER'].unique())"
   ]
  },
  {
   "cell_type": "code",
   "execution_count": 237,
   "metadata": {},
   "outputs": [],
   "source": [
    "# Merging customer data and transaction data\n",
    "cust_trans = trans_filtered.merge(cust, on='LYLTY_CARD_NBR')"
   ]
  },
  {
   "cell_type": "code",
   "execution_count": 238,
   "metadata": {},
   "outputs": [
    {
     "data": {
      "text/html": [
       "<div>\n",
       "<style scoped>\n",
       "    .dataframe tbody tr th:only-of-type {\n",
       "        vertical-align: middle;\n",
       "    }\n",
       "\n",
       "    .dataframe tbody tr th {\n",
       "        vertical-align: top;\n",
       "    }\n",
       "\n",
       "    .dataframe thead th {\n",
       "        text-align: right;\n",
       "    }\n",
       "</style>\n",
       "<table border=\"1\" class=\"dataframe\">\n",
       "  <thead>\n",
       "    <tr style=\"text-align: right;\">\n",
       "      <th></th>\n",
       "      <th>DATE</th>\n",
       "      <th>STORE_NBR</th>\n",
       "      <th>LYLTY_CARD_NBR</th>\n",
       "      <th>TXN_ID</th>\n",
       "      <th>PROD_NBR</th>\n",
       "      <th>PROD_NAME</th>\n",
       "      <th>PROD_QTY</th>\n",
       "      <th>TOT_SALES</th>\n",
       "      <th>BRAND</th>\n",
       "      <th>PACK_SIZE</th>\n",
       "      <th>LIFESTAGE</th>\n",
       "      <th>PREMIUM_CUSTOMER</th>\n",
       "    </tr>\n",
       "  </thead>\n",
       "  <tbody>\n",
       "    <tr>\n",
       "      <th>0</th>\n",
       "      <td>1974-12-13 22:00:00</td>\n",
       "      <td>1</td>\n",
       "      <td>1000</td>\n",
       "      <td>1</td>\n",
       "      <td>5</td>\n",
       "      <td>Natural Chip        Compny SeaSalt 175g</td>\n",
       "      <td>2</td>\n",
       "      <td>6.0</td>\n",
       "      <td>Natural</td>\n",
       "      <td>175g</td>\n",
       "      <td>YOUNG SINGLES/COUPLES</td>\n",
       "      <td>Premium</td>\n",
       "    </tr>\n",
       "    <tr>\n",
       "      <th>1</th>\n",
       "      <td>1974-12-22 21:00:00</td>\n",
       "      <td>1</td>\n",
       "      <td>1343</td>\n",
       "      <td>383</td>\n",
       "      <td>61</td>\n",
       "      <td>Smiths Crinkle Cut  Chips Chicken 170g</td>\n",
       "      <td>2</td>\n",
       "      <td>2.9</td>\n",
       "      <td>Smiths</td>\n",
       "      <td>170g</td>\n",
       "      <td>MIDAGE SINGLES/COUPLES</td>\n",
       "      <td>Budget</td>\n",
       "    </tr>\n",
       "    <tr>\n",
       "      <th>2</th>\n",
       "      <td>1974-12-11 09:00:00</td>\n",
       "      <td>2</td>\n",
       "      <td>2373</td>\n",
       "      <td>974</td>\n",
       "      <td>69</td>\n",
       "      <td>Smiths Chip Thinly  S/Cream&amp;Onion 175g</td>\n",
       "      <td>5</td>\n",
       "      <td>15.0</td>\n",
       "      <td>Smiths</td>\n",
       "      <td>175g</td>\n",
       "      <td>MIDAGE SINGLES/COUPLES</td>\n",
       "      <td>Budget</td>\n",
       "    </tr>\n",
       "    <tr>\n",
       "      <th>3</th>\n",
       "      <td>1974-12-11 10:00:00</td>\n",
       "      <td>2</td>\n",
       "      <td>2426</td>\n",
       "      <td>1038</td>\n",
       "      <td>108</td>\n",
       "      <td>Kettle Tortilla ChpsHny&amp;Jlpno Chili 150g</td>\n",
       "      <td>3</td>\n",
       "      <td>13.8</td>\n",
       "      <td>Kettle</td>\n",
       "      <td>150g</td>\n",
       "      <td>MIDAGE SINGLES/COUPLES</td>\n",
       "      <td>Budget</td>\n",
       "    </tr>\n",
       "    <tr>\n",
       "      <th>4</th>\n",
       "      <td>1974-12-22 17:00:00</td>\n",
       "      <td>4</td>\n",
       "      <td>4149</td>\n",
       "      <td>3333</td>\n",
       "      <td>16</td>\n",
       "      <td>Smiths Crinkle Chips Salt &amp; Vinegar 330g</td>\n",
       "      <td>1</td>\n",
       "      <td>5.7</td>\n",
       "      <td>Smiths</td>\n",
       "      <td>330g</td>\n",
       "      <td>MIDAGE SINGLES/COUPLES</td>\n",
       "      <td>Budget</td>\n",
       "    </tr>\n",
       "  </tbody>\n",
       "</table>\n",
       "</div>"
      ],
      "text/plain": [
       "                 DATE  STORE_NBR  LYLTY_CARD_NBR  TXN_ID  PROD_NBR  \\\n",
       "0 1974-12-13 22:00:00          1            1000       1         5   \n",
       "1 1974-12-22 21:00:00          1            1343     383        61   \n",
       "2 1974-12-11 09:00:00          2            2373     974        69   \n",
       "3 1974-12-11 10:00:00          2            2426    1038       108   \n",
       "4 1974-12-22 17:00:00          4            4149    3333        16   \n",
       "\n",
       "                                  PROD_NAME  PROD_QTY  TOT_SALES    BRAND  \\\n",
       "0   Natural Chip        Compny SeaSalt 175g         2        6.0  Natural   \n",
       "1    Smiths Crinkle Cut  Chips Chicken 170g         2        2.9   Smiths   \n",
       "2    Smiths Chip Thinly  S/Cream&Onion 175g         5       15.0   Smiths   \n",
       "3  Kettle Tortilla ChpsHny&Jlpno Chili 150g         3       13.8   Kettle   \n",
       "4  Smiths Crinkle Chips Salt & Vinegar 330g         1        5.7   Smiths   \n",
       "\n",
       "  PACK_SIZE               LIFESTAGE PREMIUM_CUSTOMER  \n",
       "0      175g   YOUNG SINGLES/COUPLES          Premium  \n",
       "1      170g  MIDAGE SINGLES/COUPLES           Budget  \n",
       "2      175g  MIDAGE SINGLES/COUPLES           Budget  \n",
       "3      150g  MIDAGE SINGLES/COUPLES           Budget  \n",
       "4      330g  MIDAGE SINGLES/COUPLES           Budget  "
      ]
     },
     "execution_count": 238,
     "metadata": {},
     "output_type": "execute_result"
    }
   ],
   "source": [
    "cust_trans.head()"
   ]
  },
  {
   "cell_type": "code",
   "execution_count": 239,
   "metadata": {},
   "outputs": [
    {
     "name": "stdout",
     "output_type": "stream",
     "text": [
      "<class 'pandas.core.frame.DataFrame'>\n",
      "Int64Index: 87333 entries, 0 to 87332\n",
      "Data columns (total 12 columns):\n",
      " #   Column            Non-Null Count  Dtype         \n",
      "---  ------            --------------  -----         \n",
      " 0   DATE              87333 non-null  datetime64[ns]\n",
      " 1   STORE_NBR         87333 non-null  int64         \n",
      " 2   LYLTY_CARD_NBR    87333 non-null  int64         \n",
      " 3   TXN_ID            87333 non-null  int64         \n",
      " 4   PROD_NBR          87333 non-null  int64         \n",
      " 5   PROD_NAME         87333 non-null  object        \n",
      " 6   PROD_QTY          87333 non-null  int64         \n",
      " 7   TOT_SALES         87333 non-null  float64       \n",
      " 8   BRAND             87333 non-null  object        \n",
      " 9   PACK_SIZE         87333 non-null  object        \n",
      " 10  LIFESTAGE         87333 non-null  object        \n",
      " 11  PREMIUM_CUSTOMER  87333 non-null  object        \n",
      "dtypes: datetime64[ns](1), float64(1), int64(5), object(5)\n",
      "memory usage: 8.7+ MB\n"
     ]
    }
   ],
   "source": [
    "cust_trans.info()"
   ]
  },
  {
   "cell_type": "markdown",
   "metadata": {},
   "source": [
    "## Data Analysis and Customer Segment\n",
    "Now the data is ready for analysis. A few metrics are defined here for client's interest:\n",
    "- Who spends the most on chips (total sales), describing customers by lifestage and how premium their general purchasing behaviour is?\n",
    "- How many customers are in each segment?\n",
    "- How many chips are bought per customer by segment?\n",
    "- What's the average chip price by customer segment?\n",
    "- How many returning customers?\n",
    "- Which chips is popular?\n",
    "- Do the customers tend to buy big packs?"
   ]
  },
  {
   "cell_type": "markdown",
   "metadata": {},
   "source": [
    "### Who spends  most on chips?\n",
    "looking at the barplot, chips do not get high attention from the premium customers. Among the different lifestage of customers, older singles/couples tend to spend more on chips compared to other customers. It is followed by retirees and older families. These 3 groups should be the focus from our client.\n",
    "\n",
    "However, based on this plot we still do not know which chips is more popular in sales among the different families."
   ]
  },
  {
   "cell_type": "code",
   "execution_count": 245,
   "metadata": {},
   "outputs": [
    {
     "data": {
      "text/plain": [
       "<matplotlib.axes._subplots.AxesSubplot at 0x1a289c0150>"
      ]
     },
     "execution_count": 245,
     "metadata": {},
     "output_type": "execute_result"
    },
    {
     "data": {
      "image/png": "[encoded data removed]",
      "text/plain": [
       "<Figure size 1080x720 with 3 Axes>"
      ]
     },
     "metadata": {
      "needs_background": "light"
     },
     "output_type": "display_data"
    }
   ],
   "source": [
    "cust_types = cust_trans.pivot_table(index=['PREMIUM_CUSTOMER', 'LIFESTAGE'], values='TOT_SALES', aggfunc='sum')\n",
    "cust_types_lifestage = cust_trans.pivot_table(index=['LIFESTAGE'], values='TOT_SALES', aggfunc='sum')\n",
    "cust_types_pre_cust = cust_trans.pivot_table(index=['PREMIUM_CUSTOMER'], values='TOT_SALES', aggfunc='sum')\n",
    "\n",
    "fig, axs = plt.subplots(3, 1, figsize=(15,10))\n",
    "sns.barplot(x='PREMIUM_CUSTOMER', y='TOT_SALES', hue='LIFESTAGE', data=cust_types.reset_index(), ax=axs[0])\n",
    "axs[0].legend(bbox_to_anchor=(1, 1))\n",
    "sns.barplot(x='LIFESTAGE', y='TOT_SALES', data=cust_types_lifestage.reset_index(), ax=axs[1])\n",
    "sns.barplot(x='PREMIUM_CUSTOMER', y='TOT_SALES', data=cust_types_pre_cust.reset_index(), ax=axs[2])"
   ]
  },
  {
   "cell_type": "markdown",
   "metadata": {},
   "source": [
    "### How many customers are in each segment?\n",
    "Barplot below show that there is a significant number of older singles/couples registered at the store. "
   ]
  },
  {
   "cell_type": "code",
   "execution_count": 268,
   "metadata": {},
   "outputs": [
    {
     "data": {
      "text/plain": [
       "<matplotlib.axes._subplots.AxesSubplot at 0x1a3e7eec90>"
      ]
     },
     "execution_count": 268,
     "metadata": {},
     "output_type": "execute_result"
    },
    {
     "data": {
      "image/png": "[encoded data removed]",
      "text/plain": [
       "<Figure size 1080x360 with 1 Axes>"
      ]
     },
     "metadata": {
      "needs_background": "light"
     },
     "output_type": "display_data"
    }
   ],
   "source": [
    "cust_seg = cust_trans.drop_duplicates(subset=['LYLTY_CARD_NBR'])[['LYLTY_CARD_NBR', 'LIFESTAGE', 'PREMIUM_CUSTOMER']]\n",
    "cust_seg_group = cust_seg.groupby(['LIFESTAGE', 'PREMIUM_CUSTOMER']).agg('count')\n",
    "plt.figure(figsize=(15,5))\n",
    "sns.barplot(x='LIFESTAGE', y='LYLTY_CARD_NBR', hue='PREMIUM_CUSTOMER', data=cust_seg_group.reset_index())"
   ]
  },
  {
   "cell_type": "markdown",
   "metadata": {},
   "source": [
    "### How many chips are bought per customer by segment?\n",
    "The plots are still quite similar to the total sales computed earlier."
   ]
  },
  {
   "cell_type": "code",
   "execution_count": 270,
   "metadata": {},
   "outputs": [
    {
     "data": {
      "text/plain": [
       "<matplotlib.axes._subplots.AxesSubplot at 0x1a3c5d5510>"
      ]
     },
     "execution_count": 270,
     "metadata": {},
     "output_type": "execute_result"
    },
    {
     "data": {
      "image/png": "[encoded data removed]",
      "text/plain": [
       "<Figure size 1080x720 with 3 Axes>"
      ]
     },
     "metadata": {
      "needs_background": "light"
     },
     "output_type": "display_data"
    }
   ],
   "source": [
    "cust_types_count = cust_trans.pivot_table(index=['PREMIUM_CUSTOMER', 'LIFESTAGE'], values='TOT_SALES', aggfunc='count')\n",
    "cust_types_count_lifestage = cust_trans.pivot_table(index=['LIFESTAGE'], values='TOT_SALES', aggfunc='count')\n",
    "cust_types_count_pre_cust = cust_trans.pivot_table(index=['PREMIUM_CUSTOMER'], values='TOT_SALES', aggfunc='count')\n",
    "\n",
    "fig, axs = plt.subplots(3, 1, figsize=(15,10))\n",
    "sns.barplot(x='PREMIUM_CUSTOMER', y='TOT_SALES', hue='LIFESTAGE', data=cust_types_count.reset_index(), ax=axs[0])\n",
    "axs[0].legend(bbox_to_anchor=(1, 1))\n",
    "sns.barplot(x='LIFESTAGE', y='TOT_SALES', data=cust_types_count_lifestage.reset_index(), ax=axs[1])\n",
    "sns.barplot(x='PREMIUM_CUSTOMER', y='TOT_SALES', data=cust_types_count_pre_cust.reset_index(), ax=axs[2])"
   ]
  },
  {
   "cell_type": "markdown",
   "metadata": {},
   "source": [
    "### What's the average chip price by customer segment?\n",
    "For every transaction, the average spending for all segments is about 6-7 dollars."
   ]
  },
  {
   "cell_type": "code",
   "execution_count": 271,
   "metadata": {},
   "outputs": [
    {
     "data": {
      "text/plain": [
       "<matplotlib.axes._subplots.AxesSubplot at 0x1a3dbdd350>"
      ]
     },
     "execution_count": 271,
     "metadata": {},
     "output_type": "execute_result"
    },
    {
     "data": {
      "image/png": "[encoded data removed]",
      "text/plain": [
       "<Figure size 1080x720 with 3 Axes>"
      ]
     },
     "metadata": {
      "needs_background": "light"
     },
     "output_type": "display_data"
    }
   ],
   "source": [
    "cust_types_count = cust_trans.pivot_table(index=['PREMIUM_CUSTOMER', 'LIFESTAGE'], values='TOT_SALES', aggfunc='mean')\n",
    "cust_types_count_lifestage = cust_trans.pivot_table(index=['LIFESTAGE'], values='TOT_SALES', aggfunc='mean')\n",
    "cust_types_count_pre_cust = cust_trans.pivot_table(index=['PREMIUM_CUSTOMER'], values='TOT_SALES', aggfunc='mean')\n",
    "\n",
    "fig, axs = plt.subplots(3, 1, figsize=(15,10))\n",
    "sns.barplot(x='PREMIUM_CUSTOMER', y='TOT_SALES', hue='LIFESTAGE', data=cust_types_count.reset_index(), ax=axs[0])\n",
    "axs[0].legend(bbox_to_anchor=(1, 1))\n",
    "sns.barplot(x='LIFESTAGE', y='TOT_SALES', data=cust_types_count_lifestage.reset_index(), ax=axs[1])\n",
    "sns.barplot(x='PREMIUM_CUSTOMER', y='TOT_SALES', data=cust_types_count_pre_cust.reset_index(), ax=axs[2])"
   ]
  },
  {
   "cell_type": "markdown",
   "metadata": {},
   "source": [
    "### How many returning customers?"
   ]
  },
  {
   "cell_type": "code",
   "execution_count": 298,
   "metadata": {},
   "outputs": [
    {
     "name": "stdout",
     "output_type": "stream",
     "text": [
      "We have 47779 number of customer registered in the system\n",
      "There are 87333 number of transactions made in the system\n",
      "Only 23054 returning customers in the past.\n"
     ]
    },
    {
     "data": {
      "image/png": "[encoded data removed]",
      "text/plain": [
       "<Figure size 360x360 with 1 Axes>"
      ]
     },
     "metadata": {
      "needs_background": "light"
     },
     "output_type": "display_data"
    }
   ],
   "source": [
    "print('We have {} number of customer registered in the system'.format(cust_seg.shape[0]))\n",
    "print('There are {} number of transactions made in the system'.format(cust_trans.shape[0]))\n",
    "cust_trans_return_cust = cust_trans.groupby('LYLTY_CARD_NBR').agg('count')\n",
    "cust_trans_return_cust = cust_trans_return_cust[cust_trans_return_cust['LIFESTAGE'] > 1]\n",
    "\n",
    "cust_types_return_cust_count = cust_trans_return_cust.pivot_table(index=['PREMIUM_CUSTOMER', 'LIFESTAGE'],\n",
    "                                                                  values='TOT_SALES', aggfunc='count')\n",
    "cust_types_return_cust_count_lifestage = cust_trans_return_cust.pivot_table(index=['LIFESTAGE'],\n",
    "                                                                            values='TOT_SALES', aggfunc='count')\n",
    "cust_types_return_cust_count_pre_cust = cust_trans_return_cust.pivot_table(index=['PREMIUM_CUSTOMER'],\n",
    "                                                                           values='TOT_SALES', aggfunc='count')\n",
    "\n",
    "plt.figure(figsize=(5,5))\n",
    "sns.barplot(x='LIFESTAGE', y='TOT_SALES', data=cust_types_return_cust_count_lifestage.reset_index())\n",
    "plt.xlabel('Returning customers')\n",
    "plt.ylabel('Frequency')\n",
    "\n",
    "print('Only {} returning customers in the past.'.format(cust_trans_return_cust.shape[0]))"
   ]
  },
  {
   "cell_type": "markdown",
   "metadata": {},
   "source": [
    "### Which chips is popular?\n",
    "Take note of the x axis, it is sorted based on the popularity of sales chips."
   ]
  },
  {
   "cell_type": "code",
   "execution_count": 246,
   "metadata": {},
   "outputs": [
    {
     "data": {
      "text/plain": [
       "([], <a list of 0 Text xticklabel objects>)"
      ]
     },
     "execution_count": 246,
     "metadata": {},
     "output_type": "execute_result"
    },
    {
     "data": {
      "image/png": "[encoded data removed]",
      "text/plain": [
       "<Figure size 432x288 with 1 Axes>"
      ]
     },
     "metadata": {
      "needs_background": "light"
     },
     "output_type": "display_data"
    },
    {
     "data": {
      "image/png": "[encoded data removed]",
      "text/plain": [
       "<Figure size 432x288 with 1 Axes>"
      ]
     },
     "metadata": {
      "needs_background": "light"
     },
     "output_type": "display_data"
    }
   ],
   "source": [
    "sales_count = cust_trans.pivot_table(index='PROD_NAME', \n",
    "                                         aggfunc='count', values='TOT_SALES').sort_values(by='TOT_SALES')\n",
    "sales_sum = cust_trans.pivot_table(index='PROD_NAME', \n",
    "                                       aggfunc='sum', values='TOT_SALES').reindex(sales_count.index)\n",
    "sales_count.plot()\n",
    "plt.legend(['Sales Count'])\n",
    "plt.xticks([])\n",
    "sales_sum.plot()\n",
    "plt.legend(['Sales Sum'])\n",
    "plt.xticks([])"
   ]
  },
  {
   "cell_type": "markdown",
   "metadata": {},
   "source": [
    "Since we know that the brand of the chips can be split into 2 popular counts, I will name it as cat1 & cat2."
   ]
  },
  {
   "cell_type": "code",
   "execution_count": 299,
   "metadata": {},
   "outputs": [],
   "source": [
    "cat2 = sales_count[sales_count['TOT_SALES'] > 2250].index.tolist()\n",
    "cat1 = sales_count[sales_count['TOT_SALES'] <= 2250].index.tolist()"
   ]
  },
  {
   "cell_type": "code",
   "execution_count": 300,
   "metadata": {},
   "outputs": [
    {
     "name": "stdout",
     "output_type": "stream",
     "text": [
      "Low popularity chips as shown in the list below:\n",
      "['French Fries Potato Chips 175g', 'Smiths Chip Thinly  CutSalt/Vinegr 175g', 'Thins Chips         Originl saltd 175g', 'Natural ChipCo      Hony Soy Chckn 175g', 'Smiths Crinkle Cut  Chips Original 170g', 'Natural Chip        Compny SeaSalt 175g', 'WW D/Style Chip     Sea Salt 200g', 'Smiths Chip Thinly  S/Cream&Onion 175g', 'Smiths Crinkle Cut  Chips Chs&Onion 170g', 'WW Sour Cream &OnionStacked Chips 160g', 'Smiths Crinkle Cut  Chips Chicken 170g', 'WW Original Stacked Chips 160g', 'Smiths Crinkle Cut  Chips Barbecue 170g', 'WW Original Corn    Chips 200g', 'WW Supreme Cheese   Corn Chips 200g', 'Natural ChipCo Sea  Salt & Vinegr 175g', 'Natural Chip Co     Tmato Hrb&Spce 175g', 'Smiths Chip Thinly  Cut Original 175g']\n"
     ]
    },
    {
     "data": {
      "text/plain": [
       "<matplotlib.legend.Legend at 0x1a42815850>"
      ]
     },
     "execution_count": 300,
     "metadata": {},
     "output_type": "execute_result"
    },
    {
     "data": {
      "image/png": "[encoded data removed]",
      "text/plain": [
       "<Figure size 1080x360 with 1 Axes>"
      ]
     },
     "metadata": {
      "needs_background": "light"
     },
     "output_type": "display_data"
    }
   ],
   "source": [
    "print('Low popularity chips as shown in the list below:')\n",
    "print(cat1)\n",
    "cust_trans1 = cust_trans[cust_trans['PROD_NAME'].isin(cat1)]\n",
    "cust_types1 = cust_trans1.pivot_table(index=['PREMIUM_CUSTOMER', 'LIFESTAGE'], values='TOT_SALES', aggfunc='sum')\n",
    "\n",
    "plt.figure(figsize=(15,5))\n",
    "sns.barplot(x='PREMIUM_CUSTOMER', y='TOT_SALES', hue='LIFESTAGE', data=cust_types1.reset_index())\n",
    "plt.legend(bbox_to_anchor=(1, 1))"
   ]
  },
  {
   "cell_type": "code",
   "execution_count": 304,
   "metadata": {},
   "outputs": [
    {
     "name": "stdout",
     "output_type": "stream",
     "text": [
      "High popularity chips as shown in the list below:\n",
      "['Thins Chips Salt &  Vinegar 175g', 'Thins Chips Seasonedchicken 175g', 'Doritos Corn Chips  Original 170g', 'Kettle Tortilla ChpsFeta&Garlic 150g', 'Tostitos Smoked     Chipotle 175g', 'Kettle Tortilla ChpsBtroot&Ricotta 150g', 'Cobs Popd Sour Crm  &Chives Chips 110g', 'Doritos Corn Chips  Nacho Cheese 170g', 'Doritos Corn Chip Southern Chicken 150g', 'Dorito Corn Chp     Supreme 380g', 'Thins Chips Light&  Tangy 175g', 'Smiths Crinkle Chips Salt & Vinegar 330g', 'Doritos Corn Chip Mexican Jalapeno 150g', 'Doritos Corn Chips  Cheese Supreme 170g', 'Thins Potato Chips  Hot & Spicy 175g', 'Smiths Crnkle Chip  Orgnl Big Bag 380g', 'Cobs Popd Sea Salt  Chips 110g', 'Cobs Popd Swt/Chlli &Sr/Cream Chips 110g', 'Kettle Tortilla ChpsHny&Jlpno Chili 150g']\n"
     ]
    },
    {
     "data": {
      "text/plain": [
       "<matplotlib.legend.Legend at 0x1a451b2090>"
      ]
     },
     "execution_count": 304,
     "metadata": {},
     "output_type": "execute_result"
    },
    {
     "data": {
      "image/png": "[encoded data removed]",
      "text/plain": [
       "<Figure size 1080x360 with 1 Axes>"
      ]
     },
     "metadata": {
      "needs_background": "light"
     },
     "output_type": "display_data"
    }
   ],
   "source": [
    "print('High popularity chips as shown in the list below:')\n",
    "print(cat2)\n",
    "cust_trans2 = cust_trans[cust_trans['PROD_NAME'].isin(cat2)]\n",
    "cust_types2 = cust_trans2.pivot_table(index=['PREMIUM_CUSTOMER', 'LIFESTAGE'], values='TOT_SALES', aggfunc='sum')\n",
    "\n",
    "plt.figure(figsize=(15,5))\n",
    "sns.barplot(x='PREMIUM_CUSTOMER', y='TOT_SALES', hue='LIFESTAGE', data=cust_types2.reset_index())\n",
    "plt.legend(bbox_to_anchor=(1, 1))"
   ]
  },
  {
   "cell_type": "markdown",
   "metadata": {},
   "source": [
    "### Do the customers tend to buy big size of chips?"
   ]
  },
  {
   "cell_type": "code",
   "execution_count": 305,
   "metadata": {},
   "outputs": [
    {
     "data": {
      "text/html": [
       "<div>\n",
       "<style scoped>\n",
       "    .dataframe tbody tr th:only-of-type {\n",
       "        vertical-align: middle;\n",
       "    }\n",
       "\n",
       "    .dataframe tbody tr th {\n",
       "        vertical-align: top;\n",
       "    }\n",
       "\n",
       "    .dataframe thead th {\n",
       "        text-align: right;\n",
       "    }\n",
       "</style>\n",
       "<table border=\"1\" class=\"dataframe\">\n",
       "  <thead>\n",
       "    <tr style=\"text-align: right;\">\n",
       "      <th></th>\n",
       "      <th>DATE</th>\n",
       "      <th>STORE_NBR</th>\n",
       "      <th>LYLTY_CARD_NBR</th>\n",
       "      <th>TXN_ID</th>\n",
       "      <th>PROD_NBR</th>\n",
       "      <th>PROD_NAME</th>\n",
       "      <th>PROD_QTY</th>\n",
       "      <th>TOT_SALES</th>\n",
       "      <th>BRAND</th>\n",
       "      <th>PACK_SIZE</th>\n",
       "      <th>LIFESTAGE</th>\n",
       "      <th>PREMIUM_CUSTOMER</th>\n",
       "    </tr>\n",
       "  </thead>\n",
       "  <tbody>\n",
       "    <tr>\n",
       "      <th>0</th>\n",
       "      <td>1974-12-13 22:00:00</td>\n",
       "      <td>1</td>\n",
       "      <td>1000</td>\n",
       "      <td>1</td>\n",
       "      <td>5</td>\n",
       "      <td>Natural Chip        Compny SeaSalt 175g</td>\n",
       "      <td>2</td>\n",
       "      <td>6.0</td>\n",
       "      <td>Natural</td>\n",
       "      <td>175g</td>\n",
       "      <td>YOUNG SINGLES/COUPLES</td>\n",
       "      <td>Premium</td>\n",
       "    </tr>\n",
       "    <tr>\n",
       "      <th>1</th>\n",
       "      <td>1974-12-22 21:00:00</td>\n",
       "      <td>1</td>\n",
       "      <td>1343</td>\n",
       "      <td>383</td>\n",
       "      <td>61</td>\n",
       "      <td>Smiths Crinkle Cut  Chips Chicken 170g</td>\n",
       "      <td>2</td>\n",
       "      <td>2.9</td>\n",
       "      <td>Smiths</td>\n",
       "      <td>170g</td>\n",
       "      <td>MIDAGE SINGLES/COUPLES</td>\n",
       "      <td>Budget</td>\n",
       "    </tr>\n",
       "    <tr>\n",
       "      <th>2</th>\n",
       "      <td>1974-12-11 09:00:00</td>\n",
       "      <td>2</td>\n",
       "      <td>2373</td>\n",
       "      <td>974</td>\n",
       "      <td>69</td>\n",
       "      <td>Smiths Chip Thinly  S/Cream&amp;Onion 175g</td>\n",
       "      <td>5</td>\n",
       "      <td>15.0</td>\n",
       "      <td>Smiths</td>\n",
       "      <td>175g</td>\n",
       "      <td>MIDAGE SINGLES/COUPLES</td>\n",
       "      <td>Budget</td>\n",
       "    </tr>\n",
       "    <tr>\n",
       "      <th>3</th>\n",
       "      <td>1974-12-11 10:00:00</td>\n",
       "      <td>2</td>\n",
       "      <td>2426</td>\n",
       "      <td>1038</td>\n",
       "      <td>108</td>\n",
       "      <td>Kettle Tortilla ChpsHny&amp;Jlpno Chili 150g</td>\n",
       "      <td>3</td>\n",
       "      <td>13.8</td>\n",
       "      <td>Kettle</td>\n",
       "      <td>150g</td>\n",
       "      <td>MIDAGE SINGLES/COUPLES</td>\n",
       "      <td>Budget</td>\n",
       "    </tr>\n",
       "    <tr>\n",
       "      <th>4</th>\n",
       "      <td>1974-12-22 17:00:00</td>\n",
       "      <td>4</td>\n",
       "      <td>4149</td>\n",
       "      <td>3333</td>\n",
       "      <td>16</td>\n",
       "      <td>Smiths Crinkle Chips Salt &amp; Vinegar 330g</td>\n",
       "      <td>1</td>\n",
       "      <td>5.7</td>\n",
       "      <td>Smiths</td>\n",
       "      <td>330g</td>\n",
       "      <td>MIDAGE SINGLES/COUPLES</td>\n",
       "      <td>Budget</td>\n",
       "    </tr>\n",
       "  </tbody>\n",
       "</table>\n",
       "</div>"
      ],
      "text/plain": [
       "                 DATE  STORE_NBR  LYLTY_CARD_NBR  TXN_ID  PROD_NBR  \\\n",
       "0 1974-12-13 22:00:00          1            1000       1         5   \n",
       "1 1974-12-22 21:00:00          1            1343     383        61   \n",
       "2 1974-12-11 09:00:00          2            2373     974        69   \n",
       "3 1974-12-11 10:00:00          2            2426    1038       108   \n",
       "4 1974-12-22 17:00:00          4            4149    3333        16   \n",
       "\n",
       "                                  PROD_NAME  PROD_QTY  TOT_SALES    BRAND  \\\n",
       "0   Natural Chip        Compny SeaSalt 175g         2        6.0  Natural   \n",
       "1    Smiths Crinkle Cut  Chips Chicken 170g         2        2.9   Smiths   \n",
       "2    Smiths Chip Thinly  S/Cream&Onion 175g         5       15.0   Smiths   \n",
       "3  Kettle Tortilla ChpsHny&Jlpno Chili 150g         3       13.8   Kettle   \n",
       "4  Smiths Crinkle Chips Salt & Vinegar 330g         1        5.7   Smiths   \n",
       "\n",
       "  PACK_SIZE               LIFESTAGE PREMIUM_CUSTOMER  \n",
       "0      175g   YOUNG SINGLES/COUPLES          Premium  \n",
       "1      170g  MIDAGE SINGLES/COUPLES           Budget  \n",
       "2      175g  MIDAGE SINGLES/COUPLES           Budget  \n",
       "3      150g  MIDAGE SINGLES/COUPLES           Budget  \n",
       "4      330g  MIDAGE SINGLES/COUPLES           Budget  "
      ]
     },
     "execution_count": 305,
     "metadata": {},
     "output_type": "execute_result"
    }
   ],
   "source": [
    "cust_trans.head()"
   ]
  },
  {
   "cell_type": "code",
   "execution_count": 313,
   "metadata": {},
   "outputs": [
    {
     "data": {
      "text/plain": [
       "<matplotlib.axes._subplots.AxesSubplot at 0x1a45297d90>"
      ]
     },
     "execution_count": 313,
     "metadata": {},
     "output_type": "execute_result"
    },
    {
     "data": {
      "image/png": "[encoded data removed]",
      "text/plain": [
       "<Figure size 432x288 with 1 Axes>"
      ]
     },
     "metadata": {
      "needs_background": "light"
     },
     "output_type": "display_data"
    }
   ],
   "source": [
    "pack_size_sales = cust_trans.pivot_table(index='PACK_SIZE', values='TOT_SALES', aggfunc='sum')\n",
    "sns.barplot(data=pack_size_sales.reset_index(), x='PACK_SIZE', y='TOT_SALES')"
   ]
  },
  {
   "cell_type": "markdown",
   "metadata": {},
   "source": [
    "# Conclusion"
   ]
  },
  {
   "cell_type": "markdown",
   "metadata": {},
   "source": [
    "In conclusion, the client can shift his/ her focus more on the following groups\n",
    "1. Older singles/couples regardless of its background\n",
    "2. New families from budget background\n",
    "3. Retirees from mainstream background\n",
    "\n",
    "Most of the time, customers will purchase 2 packets of chips. Take it as the base, the client can package the chips into more packets and obtain more sales.\n",
    "\n",
    "The client can also shift his marketing focus on the following brand:\n",
    "- Cobs, Doritos, Kettle, Thins, Smiths\n",
    "\n",
    "The preference of the chip size are 175g, followed by 170g and 150g."
   ]
  }
 ],
 "metadata": {
  "kernelspec": {
   "display_name": "Python 3",
   "language": "python",
   "name": "python3"
  },
  "language_info": {
   "codemirror_mode": {
    "name": "ipython",
    "version": 3
   },
   "file_extension": ".py",
   "mimetype": "text/x-python",
   "name": "python",
   "nbconvert_exporter": "python",
   "pygments_lexer": "ipython3",
   "version": "3.7.6"
  }
 },
 "nbformat": 4,
 "nbformat_minor": 4
}
